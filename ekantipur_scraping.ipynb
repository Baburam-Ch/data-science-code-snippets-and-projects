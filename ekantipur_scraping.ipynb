{
  "nbformat": 4,
  "nbformat_minor": 0,
  "metadata": {
    "colab": {
      "name": "ekantipur scraping.ipynb",
      "provenance": [],
      "authorship_tag": "ABX9TyPskGaI6UP/1jY1gJUHPQol",
      "include_colab_link": true
    },
    "kernelspec": {
      "name": "python3",
      "display_name": "Python 3"
    },
    "language_info": {
      "name": "python"
    }
  },
  "cells": [
    {
      "cell_type": "markdown",
      "metadata": {
        "id": "view-in-github",
        "colab_type": "text"
      },
      "source": [
        "<a href=\"https://colab.research.google.com/github/Baburam-Ch/data-science-code-snippets/blob/master/ekantipur_scraping.ipynb\" target=\"_parent\"><img src=\"https://colab.research.google.com/assets/colab-badge.svg\" alt=\"Open In Colab\"/></a>"
      ]
    },
    {
      "cell_type": "code",
      "source": [
        "import requests\n",
        "from bs4 import BeautifulSoup\n",
        "import csv"
      ],
      "metadata": {
        "id": "5qGQkkE_PMmm"
      },
      "execution_count": null,
      "outputs": []
    },
    {
      "cell_type": "code",
      "source": [
        "# getting html text from the url\n",
        "def get_html_doc(url):\n",
        "  return requests.get(url).content"
      ],
      "metadata": {
        "id": "JZ-BgpT9Ppt8"
      },
      "execution_count": null,
      "outputs": []
    },
    {
      "cell_type": "code",
      "source": [
        "# parsing the obtained html text from the url\n",
        "def parse_html_doc(html_doc):\n",
        "  return BeautifulSoup(html_doc, 'html.parser')"
      ],
      "metadata": {
        "id": "fhEjiJYGPxOj"
      },
      "execution_count": null,
      "outputs": []
    },
    {
      "cell_type": "code",
      "source": [
        "# fetching the individual article from the site\n",
        "def get_data(soup):\n",
        "  articles = []\n",
        "  raw_soup = soup.find('div', class_=['col-xs-10', 'col-sm-10', 'col-md-10'])\n",
        "  raw_data = soup.find_all('article', attrs={'class':'normal'})\n",
        "  for data in raw_data:\n",
        "    d = {}\n",
        "    d['article_title'] = data.h2.a.text\n",
        "    d['article_link'] = data.h2.a['href']\n",
        "    d['article_author'] = data.find('div', attrs={'class':'author'}).a.text\n",
        "    d['article_text'] = data.p.text\n",
        "    articles.append(d)\n",
        "  return articles"
      ],
      "metadata": {
        "id": "F4QbljWgP53z"
      },
      "execution_count": null,
      "outputs": []
    },
    {
      "cell_type": "code",
      "source": [
        "# getting all articles from the url/site with single method\n",
        "def get_article(path):\n",
        "  html_text = get_html_doc(path)\n",
        "  soup = parse_html_doc(html_text)\n",
        "  return get_data(soup)\n",
        "  "
      ],
      "metadata": {
        "id": "jEssQJaqUGsT"
      },
      "execution_count": null,
      "outputs": []
    },
    {
      "cell_type": "code",
      "source": [
        "# writing articles to csv file\n",
        "def write_to_csv(article, filename):\n",
        "  fieldnames = list(article[0].keys())\n",
        "  with open(filename, 'w') as csvfile:\n",
        "    writer = csv.DictWriter(csvfile, fieldnames=fieldnames)\n",
        "    writer.writeheader()\n",
        "    for data in article:\n",
        "      writer.writerow(data)"
      ],
      "metadata": {
        "id": "QWlHiFqlXowr"
      },
      "execution_count": null,
      "outputs": []
    },
    {
      "cell_type": "markdown",
      "source": [
        "SAMACHAR SECTION"
      ],
      "metadata": {
        "id": "zFk2iWMrPF4p"
      }
    },
    {
      "cell_type": "code",
      "execution_count": null,
      "metadata": {
        "id": "OnXgKfURO3w1"
      },
      "outputs": [],
      "source": [
        "samachar_url = \"https://ekantipur.com/news\"\n",
        "samachar_articles = get_article(samachar_url)\n",
        "samachar_filename = 'samachar.csv'\n",
        "write_to_csv(samachar_articles, samachar_filename)"
      ]
    },
    {
      "cell_type": "markdown",
      "source": [
        "ARTHA/BANIJYA"
      ],
      "metadata": {
        "id": "mwrcVuIJZMlb"
      }
    },
    {
      "cell_type": "code",
      "source": [
        "artha_url = 'https://ekantipur.com/business'\n",
        "artha_articles = get_article(artha_url)\n",
        "artha_filename = 'artha.csv'\n",
        "write_to_csv(artha_articles, artha_filename)"
      ],
      "metadata": {
        "id": "LW9ex2CaPfRL"
      },
      "execution_count": null,
      "outputs": []
    },
    {
      "cell_type": "markdown",
      "source": [
        "BICHAR"
      ],
      "metadata": {
        "id": "SQGK-5zKZg-C"
      }
    },
    {
      "cell_type": "code",
      "source": [
        "bichar_url = \"https://ekantipur.com/opinion\"\n",
        "bichar_articles = get_article(bichar_url)\n",
        "bichar_filename = 'bichar.csv'\n",
        "write_to_csv(bichar_articles, bichar_filename)"
      ],
      "metadata": {
        "id": "UwbaOqvYZfWm"
      },
      "execution_count": null,
      "outputs": []
    },
    {
      "cell_type": "markdown",
      "source": [
        "KHELKUD"
      ],
      "metadata": {
        "id": "g4aDY_USaCQb"
      }
    },
    {
      "cell_type": "code",
      "source": [
        "khelkud_url = \"https://ekantipur.com/sports\"\n",
        "khelkud_articles = get_article(khelkud_url)\n",
        "khelkud_filename = 'khelkud.csv'\n",
        "write_to_csv(khelkud_articles, khelkud_filename)"
      ],
      "metadata": {
        "id": "JMhh2MNPZ9lS"
      },
      "execution_count": null,
      "outputs": []
    },
    {
      "cell_type": "code",
      "source": [
        ""
      ],
      "metadata": {
        "id": "4YI8dUicaRwJ"
      },
      "execution_count": null,
      "outputs": []
    }
  ]
}